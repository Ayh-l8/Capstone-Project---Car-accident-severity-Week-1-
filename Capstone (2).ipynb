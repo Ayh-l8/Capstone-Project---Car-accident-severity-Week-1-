Capstone-Project-Car-accident-severity-Week1
Introduction
A traffic accident or a road accident are accidents that occur on the roads when another car, human, or animal collides with a facility or other things, and these accidents result in material losses, human injuries and deaths.
Children from the age of ten, the elderly, and families of children exposed to security are considered to fall into the show due to the availability of opportunities available in dealing with the street and their need for someone to help them cross the street.
 .The first recorded traffic accident in history was in Ireland, and it was the accident that killed astronomer Mary Ward on August 31, 1869.
Now, what is the problem ? the problem is car accident that cause a huge quantity of destroy in our bodys , cars , families , health , environment and lifes . And how we can avoid it and help to solve this problem .
Avoid car accident
There are simple ways to avoid this problem , like : (Get into traffic slowl , Watch out for the red light runner , Put at least one hand on the steering whee , Maintenance of the engine regularly , Watch for children , Wipe forward 12 seconds , Look back when you hold back , Do not open the back door and Be courteous to other drivers).
Data
For all data about car accidents and traffic collisions here is the Wikipedia link on this topic �https://en.wikipedia.org/wiki/Traffic_collision � 
For more information about ways to avoid car this problem here is the Ehstoday link on this topic �https://www.ehstoday.com/archive/article/21910830/ten-ways-to-avoid-car-accidents�
